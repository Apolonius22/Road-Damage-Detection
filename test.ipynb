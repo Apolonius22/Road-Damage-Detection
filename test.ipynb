{
 "cells": [
  {
   "cell_type": "code",
   "execution_count": 35,
   "metadata": {},
   "outputs": [],
   "source": [
    "from functions import *\n",
    "from Mysql_functions import *"
   ]
  },
  {
   "cell_type": "code",
   "execution_count": 36,
   "metadata": {},
   "outputs": [
    {
     "name": "stdout",
     "output_type": "stream",
     "text": [
      "2055: Lost connection to MySQL server at 'roaddamages2.mysql.database.azure.com:3306', system error: 1 [SSL: TLSV1_ALERT_PROTOCOL_VERSION] tlsv1 alert protocol version (_ssl.c:1129)\n"
     ]
    }
   ],
   "source": [
    "d = get_all_damages()"
   ]
  },
  {
   "cell_type": "code",
   "execution_count": 41,
   "metadata": {},
   "outputs": [
    {
     "name": "stdout",
     "output_type": "stream",
     "text": [
      "Alligator Crack\n",
      "Crack\n",
      "Alligator Crack\n"
     ]
    }
   ],
   "source": [
    "\n",
    "from functions import *\n",
    "from Mysql_functions import *\n",
    "\n",
    "D = []\n",
    "D.append(Damage(1,49.221039, 12.675019, 2, 2, 0, \"2022-11-23 12:01:11\", 2, 0,\"Test\"))\n",
    "D.append(Damage(1,42.221039, 12.675019, 1, 1, 0, \"2022-11-23 12:01:11\", 2, 0,\"Test\"))\n",
    "D.append(Damage(1,45.221039, 12.675019, 2, 3, 0, \"2022-11-23 12:01:11\", 2, 0,\"Test\"))\n",
    "\n",
    "for Damage in D:\n",
    "    print(Damage.damageclass)"
   ]
  }
 ],
 "metadata": {
  "kernelspec": {
   "display_name": "base",
   "language": "python",
   "name": "python3"
  },
  "language_info": {
   "codemirror_mode": {
    "name": "ipython",
    "version": 3
   },
   "file_extension": ".py",
   "mimetype": "text/x-python",
   "name": "python",
   "nbconvert_exporter": "python",
   "pygments_lexer": "ipython3",
   "version": "3.9.13"
  },
  "orig_nbformat": 4,
  "vscode": {
   "interpreter": {
    "hash": "aaf44a44f991776c7a468a10bd93d647e5ccc9a99b5473151ab62bf56451edd5"
   }
  }
 },
 "nbformat": 4,
 "nbformat_minor": 2
}
