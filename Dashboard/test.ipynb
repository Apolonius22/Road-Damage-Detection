{
 "cells": [
  {
   "cell_type": "code",
   "execution_count": 18,
   "metadata": {},
   "outputs": [],
   "source": [
    "import sys\n",
    "\n",
    "#import pathlib\n",
    "\n",
    "#parent_path = os.path.dirname#(os.getcwd())\n",
    "#print(parent_path)\n",
    "sys.path.append(os.path.dirname) # neccessary for imports to be found \n",
    "\n",
    "from functions import *"
   ]
  },
  {
   "cell_type": "code",
   "execution_count": null,
   "metadata": {},
   "outputs": [],
   "source": [
    "create_gpx()"
   ]
  }
 ],
 "metadata": {
  "kernelspec": {
   "display_name": "Test1",
   "language": "python",
   "name": "python3"
  },
  "language_info": {
   "codemirror_mode": {
    "name": "ipython",
    "version": 3
   },
   "file_extension": ".py",
   "mimetype": "text/x-python",
   "name": "python",
   "nbconvert_exporter": "python",
   "pygments_lexer": "ipython3",
   "version": "3.10.4"
  },
  "orig_nbformat": 4,
  "vscode": {
   "interpreter": {
    "hash": "ae00685c9cf2f7d7ab6e13ca9118afb0bbe74ca597520f0a3770e92dc8925fa6"
   }
  }
 },
 "nbformat": 4,
 "nbformat_minor": 2
}
